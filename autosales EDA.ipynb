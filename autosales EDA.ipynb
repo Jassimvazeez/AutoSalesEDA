{
 "cells": [
  {
   "cell_type": "markdown",
   "metadata": {},
   "source": [
    "##  **EXPLORATORY DATA ANALYSIS IN AUTOSALES**"
   ]
  },
  {
   "cell_type": "markdown",
   "metadata": {},
   "source": [
    "Since I am a huge fan of vehicles, I got a very beautiful data-set of cars from Kaggle. Just to give a small review of my dataset, it contains 2747 rows and 20 columns containing sales, order quantity, country.So in this data, we will explore the data and make it ready "
   ]
  },
  {
   "cell_type": "markdown",
   "metadata": {},
   "source": [
    "## 1. Importing Libraries"
   ]
  },
  {
   "cell_type": "markdown",
   "metadata": {},
   "source": [
    "Given below are the libraries that we require to work on this dataset."
   ]
  },
  {
   "cell_type": "code",
   "execution_count": 61,
   "metadata": {},
   "outputs": [],
   "source": [
    "import pandas as pd\n",
    "import numpy as np\n",
    "import seaborn as sns\n",
    "import matplotlib.pyplot as plt"
   ]
  },
  {
   "cell_type": "markdown",
   "metadata": {},
   "source": [
    "## 2. Load Data"
   ]
  },
  {
   "cell_type": "markdown",
   "metadata": {},
   "source": [
    "Now I will load the dataset into the notebook and get an overview of the first and last few rows of the dataset"
   ]
  },
  {
   "cell_type": "code",
   "execution_count": 33,
   "metadata": {},
   "outputs": [
    {
     "data": {
      "text/html": [
       "<div>\n",
       "<style scoped>\n",
       "    .dataframe tbody tr th:only-of-type {\n",
       "        vertical-align: middle;\n",
       "    }\n",
       "\n",
       "    .dataframe tbody tr th {\n",
       "        vertical-align: top;\n",
       "    }\n",
       "\n",
       "    .dataframe thead th {\n",
       "        text-align: right;\n",
       "    }\n",
       "</style>\n",
       "<table border=\"1\" class=\"dataframe\">\n",
       "  <thead>\n",
       "    <tr style=\"text-align: right;\">\n",
       "      <th></th>\n",
       "      <th>ORDERNUMBER</th>\n",
       "      <th>QUANTITYORDERED</th>\n",
       "      <th>PRICEEACH</th>\n",
       "      <th>ORDERLINENUMBER</th>\n",
       "      <th>SALES</th>\n",
       "      <th>ORDERDATE</th>\n",
       "      <th>DAYS_SINCE_LASTORDER</th>\n",
       "      <th>STATUS</th>\n",
       "      <th>PRODUCTLINE</th>\n",
       "      <th>MSRP</th>\n",
       "      <th>PRODUCTCODE</th>\n",
       "      <th>CUSTOMERNAME</th>\n",
       "      <th>PHONE</th>\n",
       "      <th>ADDRESSLINE1</th>\n",
       "      <th>CITY</th>\n",
       "      <th>POSTALCODE</th>\n",
       "      <th>COUNTRY</th>\n",
       "      <th>CONTACTLASTNAME</th>\n",
       "      <th>CONTACTFIRSTNAME</th>\n",
       "      <th>DEALSIZE</th>\n",
       "    </tr>\n",
       "  </thead>\n",
       "  <tbody>\n",
       "    <tr>\n",
       "      <th>0</th>\n",
       "      <td>10107</td>\n",
       "      <td>30</td>\n",
       "      <td>95.70</td>\n",
       "      <td>2</td>\n",
       "      <td>2871.00</td>\n",
       "      <td>24/02/2018</td>\n",
       "      <td>828</td>\n",
       "      <td>Shipped</td>\n",
       "      <td>Motorcycles</td>\n",
       "      <td>95</td>\n",
       "      <td>S10_1678</td>\n",
       "      <td>Land of Toys Inc.</td>\n",
       "      <td>2125557818</td>\n",
       "      <td>897 Long Airport Avenue</td>\n",
       "      <td>NYC</td>\n",
       "      <td>10022</td>\n",
       "      <td>USA</td>\n",
       "      <td>Yu</td>\n",
       "      <td>Kwai</td>\n",
       "      <td>Small</td>\n",
       "    </tr>\n",
       "    <tr>\n",
       "      <th>1</th>\n",
       "      <td>10121</td>\n",
       "      <td>34</td>\n",
       "      <td>81.35</td>\n",
       "      <td>5</td>\n",
       "      <td>2765.90</td>\n",
       "      <td>07/05/2018</td>\n",
       "      <td>757</td>\n",
       "      <td>Shipped</td>\n",
       "      <td>Motorcycles</td>\n",
       "      <td>95</td>\n",
       "      <td>S10_1678</td>\n",
       "      <td>Reims Collectables</td>\n",
       "      <td>26.47.1555</td>\n",
       "      <td>59 rue de l'Abbaye</td>\n",
       "      <td>Reims</td>\n",
       "      <td>51100</td>\n",
       "      <td>France</td>\n",
       "      <td>Henriot</td>\n",
       "      <td>Paul</td>\n",
       "      <td>Small</td>\n",
       "    </tr>\n",
       "    <tr>\n",
       "      <th>2</th>\n",
       "      <td>10134</td>\n",
       "      <td>41</td>\n",
       "      <td>94.74</td>\n",
       "      <td>2</td>\n",
       "      <td>3884.34</td>\n",
       "      <td>01/07/2018</td>\n",
       "      <td>703</td>\n",
       "      <td>Shipped</td>\n",
       "      <td>Motorcycles</td>\n",
       "      <td>95</td>\n",
       "      <td>S10_1678</td>\n",
       "      <td>Lyon Souveniers</td>\n",
       "      <td>+33 1 46 62 7555</td>\n",
       "      <td>27 rue du Colonel Pierre Avia</td>\n",
       "      <td>Paris</td>\n",
       "      <td>75508</td>\n",
       "      <td>France</td>\n",
       "      <td>Da Cunha</td>\n",
       "      <td>Daniel</td>\n",
       "      <td>Medium</td>\n",
       "    </tr>\n",
       "    <tr>\n",
       "      <th>3</th>\n",
       "      <td>10145</td>\n",
       "      <td>45</td>\n",
       "      <td>83.26</td>\n",
       "      <td>6</td>\n",
       "      <td>3746.70</td>\n",
       "      <td>25/08/2018</td>\n",
       "      <td>649</td>\n",
       "      <td>Shipped</td>\n",
       "      <td>Motorcycles</td>\n",
       "      <td>95</td>\n",
       "      <td>S10_1678</td>\n",
       "      <td>Toys4GrownUps.com</td>\n",
       "      <td>6265557265</td>\n",
       "      <td>78934 Hillside Dr.</td>\n",
       "      <td>Pasadena</td>\n",
       "      <td>90003</td>\n",
       "      <td>USA</td>\n",
       "      <td>Young</td>\n",
       "      <td>Julie</td>\n",
       "      <td>Medium</td>\n",
       "    </tr>\n",
       "    <tr>\n",
       "      <th>4</th>\n",
       "      <td>10168</td>\n",
       "      <td>36</td>\n",
       "      <td>96.66</td>\n",
       "      <td>1</td>\n",
       "      <td>3479.76</td>\n",
       "      <td>28/10/2018</td>\n",
       "      <td>586</td>\n",
       "      <td>Shipped</td>\n",
       "      <td>Motorcycles</td>\n",
       "      <td>95</td>\n",
       "      <td>S10_1678</td>\n",
       "      <td>Technics Stores Inc.</td>\n",
       "      <td>6505556809</td>\n",
       "      <td>9408 Furth Circle</td>\n",
       "      <td>Burlingame</td>\n",
       "      <td>94217</td>\n",
       "      <td>USA</td>\n",
       "      <td>Hirano</td>\n",
       "      <td>Juri</td>\n",
       "      <td>Medium</td>\n",
       "    </tr>\n",
       "    <tr>\n",
       "      <th>...</th>\n",
       "      <td>...</td>\n",
       "      <td>...</td>\n",
       "      <td>...</td>\n",
       "      <td>...</td>\n",
       "      <td>...</td>\n",
       "      <td>...</td>\n",
       "      <td>...</td>\n",
       "      <td>...</td>\n",
       "      <td>...</td>\n",
       "      <td>...</td>\n",
       "      <td>...</td>\n",
       "      <td>...</td>\n",
       "      <td>...</td>\n",
       "      <td>...</td>\n",
       "      <td>...</td>\n",
       "      <td>...</td>\n",
       "      <td>...</td>\n",
       "      <td>...</td>\n",
       "      <td>...</td>\n",
       "      <td>...</td>\n",
       "    </tr>\n",
       "    <tr>\n",
       "      <th>2742</th>\n",
       "      <td>10350</td>\n",
       "      <td>20</td>\n",
       "      <td>112.22</td>\n",
       "      <td>15</td>\n",
       "      <td>2244.40</td>\n",
       "      <td>02/12/2019</td>\n",
       "      <td>2924</td>\n",
       "      <td>Shipped</td>\n",
       "      <td>Ships</td>\n",
       "      <td>54</td>\n",
       "      <td>S72_3212</td>\n",
       "      <td>Euro Shopping Channel</td>\n",
       "      <td>(91) 555 94 44</td>\n",
       "      <td>C/ Moralzarzal, 86</td>\n",
       "      <td>Madrid</td>\n",
       "      <td>28034</td>\n",
       "      <td>Spain</td>\n",
       "      <td>Freyre</td>\n",
       "      <td>Diego</td>\n",
       "      <td>Small</td>\n",
       "    </tr>\n",
       "    <tr>\n",
       "      <th>2743</th>\n",
       "      <td>10373</td>\n",
       "      <td>29</td>\n",
       "      <td>137.19</td>\n",
       "      <td>1</td>\n",
       "      <td>3978.51</td>\n",
       "      <td>31/01/2020</td>\n",
       "      <td>2865</td>\n",
       "      <td>Shipped</td>\n",
       "      <td>Ships</td>\n",
       "      <td>54</td>\n",
       "      <td>S72_3212</td>\n",
       "      <td>Oulu Toy Supplies, Inc.</td>\n",
       "      <td>981-443655</td>\n",
       "      <td>Torikatu 38</td>\n",
       "      <td>Oulu</td>\n",
       "      <td>90110</td>\n",
       "      <td>Finland</td>\n",
       "      <td>Koskitalo</td>\n",
       "      <td>Pirkko</td>\n",
       "      <td>Medium</td>\n",
       "    </tr>\n",
       "    <tr>\n",
       "      <th>2744</th>\n",
       "      <td>10386</td>\n",
       "      <td>43</td>\n",
       "      <td>125.99</td>\n",
       "      <td>4</td>\n",
       "      <td>5417.57</td>\n",
       "      <td>01/03/2020</td>\n",
       "      <td>2836</td>\n",
       "      <td>Resolved</td>\n",
       "      <td>Ships</td>\n",
       "      <td>54</td>\n",
       "      <td>S72_3212</td>\n",
       "      <td>Euro Shopping Channel</td>\n",
       "      <td>(91) 555 94 44</td>\n",
       "      <td>C/ Moralzarzal, 86</td>\n",
       "      <td>Madrid</td>\n",
       "      <td>28034</td>\n",
       "      <td>Spain</td>\n",
       "      <td>Freyre</td>\n",
       "      <td>Diego</td>\n",
       "      <td>Medium</td>\n",
       "    </tr>\n",
       "    <tr>\n",
       "      <th>2745</th>\n",
       "      <td>10397</td>\n",
       "      <td>34</td>\n",
       "      <td>62.24</td>\n",
       "      <td>1</td>\n",
       "      <td>2116.16</td>\n",
       "      <td>28/03/2020</td>\n",
       "      <td>2810</td>\n",
       "      <td>Shipped</td>\n",
       "      <td>Ships</td>\n",
       "      <td>54</td>\n",
       "      <td>S72_3212</td>\n",
       "      <td>Alpha Cognac</td>\n",
       "      <td>61.77.6555</td>\n",
       "      <td>1 rue Alsace-Lorraine</td>\n",
       "      <td>Toulouse</td>\n",
       "      <td>31000</td>\n",
       "      <td>France</td>\n",
       "      <td>Roulet</td>\n",
       "      <td>Annette</td>\n",
       "      <td>Small</td>\n",
       "    </tr>\n",
       "    <tr>\n",
       "      <th>2746</th>\n",
       "      <td>10414</td>\n",
       "      <td>47</td>\n",
       "      <td>65.52</td>\n",
       "      <td>9</td>\n",
       "      <td>3079.44</td>\n",
       "      <td>06/05/2020</td>\n",
       "      <td>2772</td>\n",
       "      <td>On Hold</td>\n",
       "      <td>Ships</td>\n",
       "      <td>54</td>\n",
       "      <td>S72_3212</td>\n",
       "      <td>Gifts4AllAges.com</td>\n",
       "      <td>6175559555</td>\n",
       "      <td>8616 Spinnaker Dr.</td>\n",
       "      <td>Boston</td>\n",
       "      <td>51003</td>\n",
       "      <td>USA</td>\n",
       "      <td>Yoshido</td>\n",
       "      <td>Juri</td>\n",
       "      <td>Medium</td>\n",
       "    </tr>\n",
       "  </tbody>\n",
       "</table>\n",
       "<p>2747 rows × 20 columns</p>\n",
       "</div>"
      ],
      "text/plain": [
       "      ORDERNUMBER  QUANTITYORDERED  PRICEEACH  ORDERLINENUMBER    SALES  \\\n",
       "0           10107               30      95.70                2  2871.00   \n",
       "1           10121               34      81.35                5  2765.90   \n",
       "2           10134               41      94.74                2  3884.34   \n",
       "3           10145               45      83.26                6  3746.70   \n",
       "4           10168               36      96.66                1  3479.76   \n",
       "...           ...              ...        ...              ...      ...   \n",
       "2742        10350               20     112.22               15  2244.40   \n",
       "2743        10373               29     137.19                1  3978.51   \n",
       "2744        10386               43     125.99                4  5417.57   \n",
       "2745        10397               34      62.24                1  2116.16   \n",
       "2746        10414               47      65.52                9  3079.44   \n",
       "\n",
       "       ORDERDATE  DAYS_SINCE_LASTORDER    STATUS  PRODUCTLINE  MSRP  \\\n",
       "0     24/02/2018                   828   Shipped  Motorcycles    95   \n",
       "1     07/05/2018                   757   Shipped  Motorcycles    95   \n",
       "2     01/07/2018                   703   Shipped  Motorcycles    95   \n",
       "3     25/08/2018                   649   Shipped  Motorcycles    95   \n",
       "4     28/10/2018                   586   Shipped  Motorcycles    95   \n",
       "...          ...                   ...       ...          ...   ...   \n",
       "2742  02/12/2019                  2924   Shipped        Ships    54   \n",
       "2743  31/01/2020                  2865   Shipped        Ships    54   \n",
       "2744  01/03/2020                  2836  Resolved        Ships    54   \n",
       "2745  28/03/2020                  2810   Shipped        Ships    54   \n",
       "2746  06/05/2020                  2772   On Hold        Ships    54   \n",
       "\n",
       "     PRODUCTCODE             CUSTOMERNAME             PHONE  \\\n",
       "0       S10_1678        Land of Toys Inc.        2125557818   \n",
       "1       S10_1678       Reims Collectables        26.47.1555   \n",
       "2       S10_1678          Lyon Souveniers  +33 1 46 62 7555   \n",
       "3       S10_1678        Toys4GrownUps.com        6265557265   \n",
       "4       S10_1678     Technics Stores Inc.        6505556809   \n",
       "...          ...                      ...               ...   \n",
       "2742    S72_3212    Euro Shopping Channel    (91) 555 94 44   \n",
       "2743    S72_3212  Oulu Toy Supplies, Inc.        981-443655   \n",
       "2744    S72_3212    Euro Shopping Channel    (91) 555 94 44   \n",
       "2745    S72_3212             Alpha Cognac        61.77.6555   \n",
       "2746    S72_3212        Gifts4AllAges.com        6175559555   \n",
       "\n",
       "                       ADDRESSLINE1        CITY POSTALCODE  COUNTRY  \\\n",
       "0           897 Long Airport Avenue         NYC      10022      USA   \n",
       "1                59 rue de l'Abbaye       Reims      51100   France   \n",
       "2     27 rue du Colonel Pierre Avia       Paris      75508   France   \n",
       "3                78934 Hillside Dr.    Pasadena      90003      USA   \n",
       "4                 9408 Furth Circle  Burlingame      94217      USA   \n",
       "...                             ...         ...        ...      ...   \n",
       "2742             C/ Moralzarzal, 86      Madrid      28034    Spain   \n",
       "2743                    Torikatu 38        Oulu      90110  Finland   \n",
       "2744             C/ Moralzarzal, 86      Madrid      28034    Spain   \n",
       "2745          1 rue Alsace-Lorraine    Toulouse      31000   France   \n",
       "2746             8616 Spinnaker Dr.      Boston      51003      USA   \n",
       "\n",
       "     CONTACTLASTNAME CONTACTFIRSTNAME DEALSIZE  \n",
       "0                 Yu             Kwai    Small  \n",
       "1            Henriot             Paul    Small  \n",
       "2           Da Cunha           Daniel   Medium  \n",
       "3              Young            Julie   Medium  \n",
       "4             Hirano             Juri   Medium  \n",
       "...              ...              ...      ...  \n",
       "2742          Freyre            Diego    Small  \n",
       "2743       Koskitalo           Pirkko   Medium  \n",
       "2744          Freyre            Diego   Medium  \n",
       "2745          Roulet          Annette    Small  \n",
       "2746         Yoshido             Juri   Medium  \n",
       "\n",
       "[2747 rows x 20 columns]"
      ]
     },
     "execution_count": 33,
     "metadata": {},
     "output_type": "execute_result"
    }
   ],
   "source": [
    "a=pd.read_csv(r'C:\\Users\\Jassim\\Downloads\\archive (1)\\Auto Sales data.csv')\n",
    "a"
   ]
  },
  {
   "cell_type": "markdown",
   "metadata": {},
   "source": [
    "## 3. Describe the data"
   ]
  },
  {
   "cell_type": "markdown",
   "metadata": {},
   "source": [
    "we will get the average of every items in our data that we explore"
   ]
  },
  {
   "cell_type": "code",
   "execution_count": 34,
   "metadata": {},
   "outputs": [
    {
     "data": {
      "text/html": [
       "<div>\n",
       "<style scoped>\n",
       "    .dataframe tbody tr th:only-of-type {\n",
       "        vertical-align: middle;\n",
       "    }\n",
       "\n",
       "    .dataframe tbody tr th {\n",
       "        vertical-align: top;\n",
       "    }\n",
       "\n",
       "    .dataframe thead th {\n",
       "        text-align: right;\n",
       "    }\n",
       "</style>\n",
       "<table border=\"1\" class=\"dataframe\">\n",
       "  <thead>\n",
       "    <tr style=\"text-align: right;\">\n",
       "      <th></th>\n",
       "      <th>ORDERNUMBER</th>\n",
       "      <th>QUANTITYORDERED</th>\n",
       "      <th>PRICEEACH</th>\n",
       "      <th>ORDERLINENUMBER</th>\n",
       "      <th>SALES</th>\n",
       "      <th>DAYS_SINCE_LASTORDER</th>\n",
       "      <th>MSRP</th>\n",
       "    </tr>\n",
       "  </thead>\n",
       "  <tbody>\n",
       "    <tr>\n",
       "      <th>count</th>\n",
       "      <td>2747.000000</td>\n",
       "      <td>2747.000000</td>\n",
       "      <td>2747.000000</td>\n",
       "      <td>2747.000000</td>\n",
       "      <td>2747.000000</td>\n",
       "      <td>2747.000000</td>\n",
       "      <td>2747.000000</td>\n",
       "    </tr>\n",
       "    <tr>\n",
       "      <th>mean</th>\n",
       "      <td>10259.761558</td>\n",
       "      <td>35.103021</td>\n",
       "      <td>101.098952</td>\n",
       "      <td>6.491081</td>\n",
       "      <td>3553.047583</td>\n",
       "      <td>1757.085912</td>\n",
       "      <td>100.691664</td>\n",
       "    </tr>\n",
       "    <tr>\n",
       "      <th>std</th>\n",
       "      <td>91.877521</td>\n",
       "      <td>9.762135</td>\n",
       "      <td>42.042549</td>\n",
       "      <td>4.230544</td>\n",
       "      <td>1838.953901</td>\n",
       "      <td>819.280576</td>\n",
       "      <td>40.114802</td>\n",
       "    </tr>\n",
       "    <tr>\n",
       "      <th>min</th>\n",
       "      <td>10100.000000</td>\n",
       "      <td>6.000000</td>\n",
       "      <td>26.880000</td>\n",
       "      <td>1.000000</td>\n",
       "      <td>482.130000</td>\n",
       "      <td>42.000000</td>\n",
       "      <td>33.000000</td>\n",
       "    </tr>\n",
       "    <tr>\n",
       "      <th>25%</th>\n",
       "      <td>10181.000000</td>\n",
       "      <td>27.000000</td>\n",
       "      <td>68.745000</td>\n",
       "      <td>3.000000</td>\n",
       "      <td>2204.350000</td>\n",
       "      <td>1077.000000</td>\n",
       "      <td>68.000000</td>\n",
       "    </tr>\n",
       "    <tr>\n",
       "      <th>50%</th>\n",
       "      <td>10264.000000</td>\n",
       "      <td>35.000000</td>\n",
       "      <td>95.550000</td>\n",
       "      <td>6.000000</td>\n",
       "      <td>3184.800000</td>\n",
       "      <td>1761.000000</td>\n",
       "      <td>99.000000</td>\n",
       "    </tr>\n",
       "    <tr>\n",
       "      <th>75%</th>\n",
       "      <td>10334.500000</td>\n",
       "      <td>43.000000</td>\n",
       "      <td>127.100000</td>\n",
       "      <td>9.000000</td>\n",
       "      <td>4503.095000</td>\n",
       "      <td>2436.500000</td>\n",
       "      <td>124.000000</td>\n",
       "    </tr>\n",
       "    <tr>\n",
       "      <th>max</th>\n",
       "      <td>10425.000000</td>\n",
       "      <td>97.000000</td>\n",
       "      <td>252.870000</td>\n",
       "      <td>18.000000</td>\n",
       "      <td>14082.800000</td>\n",
       "      <td>3562.000000</td>\n",
       "      <td>214.000000</td>\n",
       "    </tr>\n",
       "  </tbody>\n",
       "</table>\n",
       "</div>"
      ],
      "text/plain": [
       "        ORDERNUMBER  QUANTITYORDERED    PRICEEACH  ORDERLINENUMBER  \\\n",
       "count   2747.000000      2747.000000  2747.000000      2747.000000   \n",
       "mean   10259.761558        35.103021   101.098952         6.491081   \n",
       "std       91.877521         9.762135    42.042549         4.230544   \n",
       "min    10100.000000         6.000000    26.880000         1.000000   \n",
       "25%    10181.000000        27.000000    68.745000         3.000000   \n",
       "50%    10264.000000        35.000000    95.550000         6.000000   \n",
       "75%    10334.500000        43.000000   127.100000         9.000000   \n",
       "max    10425.000000        97.000000   252.870000        18.000000   \n",
       "\n",
       "              SALES  DAYS_SINCE_LASTORDER         MSRP  \n",
       "count   2747.000000           2747.000000  2747.000000  \n",
       "mean    3553.047583           1757.085912   100.691664  \n",
       "std     1838.953901            819.280576    40.114802  \n",
       "min      482.130000             42.000000    33.000000  \n",
       "25%     2204.350000           1077.000000    68.000000  \n",
       "50%     3184.800000           1761.000000    99.000000  \n",
       "75%     4503.095000           2436.500000   124.000000  \n",
       "max    14082.800000           3562.000000   214.000000  "
      ]
     },
     "execution_count": 34,
     "metadata": {},
     "output_type": "execute_result"
    }
   ],
   "source": [
    "a.describe()"
   ]
  },
  {
   "cell_type": "markdown",
   "metadata": {},
   "source": [
    "## 4. Basic Information"
   ]
  },
  {
   "cell_type": "markdown",
   "metadata": {},
   "source": [
    "Just to get the basic information regarding the dataset"
   ]
  },
  {
   "cell_type": "code",
   "execution_count": 35,
   "metadata": {},
   "outputs": [
    {
     "name": "stdout",
     "output_type": "stream",
     "text": [
      "<class 'pandas.core.frame.DataFrame'>\n",
      "RangeIndex: 2747 entries, 0 to 2746\n",
      "Data columns (total 20 columns):\n",
      " #   Column                Non-Null Count  Dtype  \n",
      "---  ------                --------------  -----  \n",
      " 0   ORDERNUMBER           2747 non-null   int64  \n",
      " 1   QUANTITYORDERED       2747 non-null   int64  \n",
      " 2   PRICEEACH             2747 non-null   float64\n",
      " 3   ORDERLINENUMBER       2747 non-null   int64  \n",
      " 4   SALES                 2747 non-null   float64\n",
      " 5   ORDERDATE             2747 non-null   object \n",
      " 6   DAYS_SINCE_LASTORDER  2747 non-null   int64  \n",
      " 7   STATUS                2747 non-null   object \n",
      " 8   PRODUCTLINE           2747 non-null   object \n",
      " 9   MSRP                  2747 non-null   int64  \n",
      " 10  PRODUCTCODE           2747 non-null   object \n",
      " 11  CUSTOMERNAME          2747 non-null   object \n",
      " 12  PHONE                 2747 non-null   object \n",
      " 13  ADDRESSLINE1          2747 non-null   object \n",
      " 14  CITY                  2747 non-null   object \n",
      " 15  POSTALCODE            2747 non-null   object \n",
      " 16  COUNTRY               2747 non-null   object \n",
      " 17  CONTACTLASTNAME       2747 non-null   object \n",
      " 18  CONTACTFIRSTNAME      2747 non-null   object \n",
      " 19  DEALSIZE              2747 non-null   object \n",
      "dtypes: float64(2), int64(5), object(13)\n",
      "memory usage: 429.3+ KB\n"
     ]
    }
   ],
   "source": [
    "a.info()"
   ]
  },
  {
   "cell_type": "markdown",
   "metadata": {},
   "source": [
    "#First five numbers"
   ]
  },
  {
   "cell_type": "code",
   "execution_count": 36,
   "metadata": {},
   "outputs": [
    {
     "data": {
      "text/html": [
       "<div>\n",
       "<style scoped>\n",
       "    .dataframe tbody tr th:only-of-type {\n",
       "        vertical-align: middle;\n",
       "    }\n",
       "\n",
       "    .dataframe tbody tr th {\n",
       "        vertical-align: top;\n",
       "    }\n",
       "\n",
       "    .dataframe thead th {\n",
       "        text-align: right;\n",
       "    }\n",
       "</style>\n",
       "<table border=\"1\" class=\"dataframe\">\n",
       "  <thead>\n",
       "    <tr style=\"text-align: right;\">\n",
       "      <th></th>\n",
       "      <th>ORDERNUMBER</th>\n",
       "      <th>QUANTITYORDERED</th>\n",
       "      <th>PRICEEACH</th>\n",
       "      <th>ORDERLINENUMBER</th>\n",
       "      <th>SALES</th>\n",
       "      <th>ORDERDATE</th>\n",
       "      <th>DAYS_SINCE_LASTORDER</th>\n",
       "      <th>STATUS</th>\n",
       "      <th>PRODUCTLINE</th>\n",
       "      <th>MSRP</th>\n",
       "      <th>PRODUCTCODE</th>\n",
       "      <th>CUSTOMERNAME</th>\n",
       "      <th>PHONE</th>\n",
       "      <th>ADDRESSLINE1</th>\n",
       "      <th>CITY</th>\n",
       "      <th>POSTALCODE</th>\n",
       "      <th>COUNTRY</th>\n",
       "      <th>CONTACTLASTNAME</th>\n",
       "      <th>CONTACTFIRSTNAME</th>\n",
       "      <th>DEALSIZE</th>\n",
       "    </tr>\n",
       "  </thead>\n",
       "  <tbody>\n",
       "    <tr>\n",
       "      <th>0</th>\n",
       "      <td>10107</td>\n",
       "      <td>30</td>\n",
       "      <td>95.70</td>\n",
       "      <td>2</td>\n",
       "      <td>2871.00</td>\n",
       "      <td>24/02/2018</td>\n",
       "      <td>828</td>\n",
       "      <td>Shipped</td>\n",
       "      <td>Motorcycles</td>\n",
       "      <td>95</td>\n",
       "      <td>S10_1678</td>\n",
       "      <td>Land of Toys Inc.</td>\n",
       "      <td>2125557818</td>\n",
       "      <td>897 Long Airport Avenue</td>\n",
       "      <td>NYC</td>\n",
       "      <td>10022</td>\n",
       "      <td>USA</td>\n",
       "      <td>Yu</td>\n",
       "      <td>Kwai</td>\n",
       "      <td>Small</td>\n",
       "    </tr>\n",
       "    <tr>\n",
       "      <th>1</th>\n",
       "      <td>10121</td>\n",
       "      <td>34</td>\n",
       "      <td>81.35</td>\n",
       "      <td>5</td>\n",
       "      <td>2765.90</td>\n",
       "      <td>07/05/2018</td>\n",
       "      <td>757</td>\n",
       "      <td>Shipped</td>\n",
       "      <td>Motorcycles</td>\n",
       "      <td>95</td>\n",
       "      <td>S10_1678</td>\n",
       "      <td>Reims Collectables</td>\n",
       "      <td>26.47.1555</td>\n",
       "      <td>59 rue de l'Abbaye</td>\n",
       "      <td>Reims</td>\n",
       "      <td>51100</td>\n",
       "      <td>France</td>\n",
       "      <td>Henriot</td>\n",
       "      <td>Paul</td>\n",
       "      <td>Small</td>\n",
       "    </tr>\n",
       "    <tr>\n",
       "      <th>2</th>\n",
       "      <td>10134</td>\n",
       "      <td>41</td>\n",
       "      <td>94.74</td>\n",
       "      <td>2</td>\n",
       "      <td>3884.34</td>\n",
       "      <td>01/07/2018</td>\n",
       "      <td>703</td>\n",
       "      <td>Shipped</td>\n",
       "      <td>Motorcycles</td>\n",
       "      <td>95</td>\n",
       "      <td>S10_1678</td>\n",
       "      <td>Lyon Souveniers</td>\n",
       "      <td>+33 1 46 62 7555</td>\n",
       "      <td>27 rue du Colonel Pierre Avia</td>\n",
       "      <td>Paris</td>\n",
       "      <td>75508</td>\n",
       "      <td>France</td>\n",
       "      <td>Da Cunha</td>\n",
       "      <td>Daniel</td>\n",
       "      <td>Medium</td>\n",
       "    </tr>\n",
       "    <tr>\n",
       "      <th>3</th>\n",
       "      <td>10145</td>\n",
       "      <td>45</td>\n",
       "      <td>83.26</td>\n",
       "      <td>6</td>\n",
       "      <td>3746.70</td>\n",
       "      <td>25/08/2018</td>\n",
       "      <td>649</td>\n",
       "      <td>Shipped</td>\n",
       "      <td>Motorcycles</td>\n",
       "      <td>95</td>\n",
       "      <td>S10_1678</td>\n",
       "      <td>Toys4GrownUps.com</td>\n",
       "      <td>6265557265</td>\n",
       "      <td>78934 Hillside Dr.</td>\n",
       "      <td>Pasadena</td>\n",
       "      <td>90003</td>\n",
       "      <td>USA</td>\n",
       "      <td>Young</td>\n",
       "      <td>Julie</td>\n",
       "      <td>Medium</td>\n",
       "    </tr>\n",
       "    <tr>\n",
       "      <th>4</th>\n",
       "      <td>10168</td>\n",
       "      <td>36</td>\n",
       "      <td>96.66</td>\n",
       "      <td>1</td>\n",
       "      <td>3479.76</td>\n",
       "      <td>28/10/2018</td>\n",
       "      <td>586</td>\n",
       "      <td>Shipped</td>\n",
       "      <td>Motorcycles</td>\n",
       "      <td>95</td>\n",
       "      <td>S10_1678</td>\n",
       "      <td>Technics Stores Inc.</td>\n",
       "      <td>6505556809</td>\n",
       "      <td>9408 Furth Circle</td>\n",
       "      <td>Burlingame</td>\n",
       "      <td>94217</td>\n",
       "      <td>USA</td>\n",
       "      <td>Hirano</td>\n",
       "      <td>Juri</td>\n",
       "      <td>Medium</td>\n",
       "    </tr>\n",
       "  </tbody>\n",
       "</table>\n",
       "</div>"
      ],
      "text/plain": [
       "   ORDERNUMBER  QUANTITYORDERED  PRICEEACH  ORDERLINENUMBER    SALES  \\\n",
       "0        10107               30      95.70                2  2871.00   \n",
       "1        10121               34      81.35                5  2765.90   \n",
       "2        10134               41      94.74                2  3884.34   \n",
       "3        10145               45      83.26                6  3746.70   \n",
       "4        10168               36      96.66                1  3479.76   \n",
       "\n",
       "    ORDERDATE  DAYS_SINCE_LASTORDER   STATUS  PRODUCTLINE  MSRP PRODUCTCODE  \\\n",
       "0  24/02/2018                   828  Shipped  Motorcycles    95    S10_1678   \n",
       "1  07/05/2018                   757  Shipped  Motorcycles    95    S10_1678   \n",
       "2  01/07/2018                   703  Shipped  Motorcycles    95    S10_1678   \n",
       "3  25/08/2018                   649  Shipped  Motorcycles    95    S10_1678   \n",
       "4  28/10/2018                   586  Shipped  Motorcycles    95    S10_1678   \n",
       "\n",
       "           CUSTOMERNAME             PHONE                   ADDRESSLINE1  \\\n",
       "0     Land of Toys Inc.        2125557818        897 Long Airport Avenue   \n",
       "1    Reims Collectables        26.47.1555             59 rue de l'Abbaye   \n",
       "2       Lyon Souveniers  +33 1 46 62 7555  27 rue du Colonel Pierre Avia   \n",
       "3     Toys4GrownUps.com        6265557265             78934 Hillside Dr.   \n",
       "4  Technics Stores Inc.        6505556809              9408 Furth Circle   \n",
       "\n",
       "         CITY POSTALCODE COUNTRY CONTACTLASTNAME CONTACTFIRSTNAME DEALSIZE  \n",
       "0         NYC      10022     USA              Yu             Kwai    Small  \n",
       "1       Reims      51100  France         Henriot             Paul    Small  \n",
       "2       Paris      75508  France        Da Cunha           Daniel   Medium  \n",
       "3    Pasadena      90003     USA           Young            Julie   Medium  \n",
       "4  Burlingame      94217     USA          Hirano             Juri   Medium  "
      ]
     },
     "execution_count": 36,
     "metadata": {},
     "output_type": "execute_result"
    }
   ],
   "source": [
    "a.head()"
   ]
  },
  {
   "cell_type": "markdown",
   "metadata": {},
   "source": [
    "Last five numbers"
   ]
  },
  {
   "cell_type": "code",
   "execution_count": 37,
   "metadata": {},
   "outputs": [
    {
     "data": {
      "text/html": [
       "<div>\n",
       "<style scoped>\n",
       "    .dataframe tbody tr th:only-of-type {\n",
       "        vertical-align: middle;\n",
       "    }\n",
       "\n",
       "    .dataframe tbody tr th {\n",
       "        vertical-align: top;\n",
       "    }\n",
       "\n",
       "    .dataframe thead th {\n",
       "        text-align: right;\n",
       "    }\n",
       "</style>\n",
       "<table border=\"1\" class=\"dataframe\">\n",
       "  <thead>\n",
       "    <tr style=\"text-align: right;\">\n",
       "      <th></th>\n",
       "      <th>ORDERNUMBER</th>\n",
       "      <th>QUANTITYORDERED</th>\n",
       "      <th>PRICEEACH</th>\n",
       "      <th>ORDERLINENUMBER</th>\n",
       "      <th>SALES</th>\n",
       "      <th>ORDERDATE</th>\n",
       "      <th>DAYS_SINCE_LASTORDER</th>\n",
       "      <th>STATUS</th>\n",
       "      <th>PRODUCTLINE</th>\n",
       "      <th>MSRP</th>\n",
       "      <th>PRODUCTCODE</th>\n",
       "      <th>CUSTOMERNAME</th>\n",
       "      <th>PHONE</th>\n",
       "      <th>ADDRESSLINE1</th>\n",
       "      <th>CITY</th>\n",
       "      <th>POSTALCODE</th>\n",
       "      <th>COUNTRY</th>\n",
       "      <th>CONTACTLASTNAME</th>\n",
       "      <th>CONTACTFIRSTNAME</th>\n",
       "      <th>DEALSIZE</th>\n",
       "    </tr>\n",
       "  </thead>\n",
       "  <tbody>\n",
       "    <tr>\n",
       "      <th>2742</th>\n",
       "      <td>10350</td>\n",
       "      <td>20</td>\n",
       "      <td>112.22</td>\n",
       "      <td>15</td>\n",
       "      <td>2244.40</td>\n",
       "      <td>02/12/2019</td>\n",
       "      <td>2924</td>\n",
       "      <td>Shipped</td>\n",
       "      <td>Ships</td>\n",
       "      <td>54</td>\n",
       "      <td>S72_3212</td>\n",
       "      <td>Euro Shopping Channel</td>\n",
       "      <td>(91) 555 94 44</td>\n",
       "      <td>C/ Moralzarzal, 86</td>\n",
       "      <td>Madrid</td>\n",
       "      <td>28034</td>\n",
       "      <td>Spain</td>\n",
       "      <td>Freyre</td>\n",
       "      <td>Diego</td>\n",
       "      <td>Small</td>\n",
       "    </tr>\n",
       "    <tr>\n",
       "      <th>2743</th>\n",
       "      <td>10373</td>\n",
       "      <td>29</td>\n",
       "      <td>137.19</td>\n",
       "      <td>1</td>\n",
       "      <td>3978.51</td>\n",
       "      <td>31/01/2020</td>\n",
       "      <td>2865</td>\n",
       "      <td>Shipped</td>\n",
       "      <td>Ships</td>\n",
       "      <td>54</td>\n",
       "      <td>S72_3212</td>\n",
       "      <td>Oulu Toy Supplies, Inc.</td>\n",
       "      <td>981-443655</td>\n",
       "      <td>Torikatu 38</td>\n",
       "      <td>Oulu</td>\n",
       "      <td>90110</td>\n",
       "      <td>Finland</td>\n",
       "      <td>Koskitalo</td>\n",
       "      <td>Pirkko</td>\n",
       "      <td>Medium</td>\n",
       "    </tr>\n",
       "    <tr>\n",
       "      <th>2744</th>\n",
       "      <td>10386</td>\n",
       "      <td>43</td>\n",
       "      <td>125.99</td>\n",
       "      <td>4</td>\n",
       "      <td>5417.57</td>\n",
       "      <td>01/03/2020</td>\n",
       "      <td>2836</td>\n",
       "      <td>Resolved</td>\n",
       "      <td>Ships</td>\n",
       "      <td>54</td>\n",
       "      <td>S72_3212</td>\n",
       "      <td>Euro Shopping Channel</td>\n",
       "      <td>(91) 555 94 44</td>\n",
       "      <td>C/ Moralzarzal, 86</td>\n",
       "      <td>Madrid</td>\n",
       "      <td>28034</td>\n",
       "      <td>Spain</td>\n",
       "      <td>Freyre</td>\n",
       "      <td>Diego</td>\n",
       "      <td>Medium</td>\n",
       "    </tr>\n",
       "    <tr>\n",
       "      <th>2745</th>\n",
       "      <td>10397</td>\n",
       "      <td>34</td>\n",
       "      <td>62.24</td>\n",
       "      <td>1</td>\n",
       "      <td>2116.16</td>\n",
       "      <td>28/03/2020</td>\n",
       "      <td>2810</td>\n",
       "      <td>Shipped</td>\n",
       "      <td>Ships</td>\n",
       "      <td>54</td>\n",
       "      <td>S72_3212</td>\n",
       "      <td>Alpha Cognac</td>\n",
       "      <td>61.77.6555</td>\n",
       "      <td>1 rue Alsace-Lorraine</td>\n",
       "      <td>Toulouse</td>\n",
       "      <td>31000</td>\n",
       "      <td>France</td>\n",
       "      <td>Roulet</td>\n",
       "      <td>Annette</td>\n",
       "      <td>Small</td>\n",
       "    </tr>\n",
       "    <tr>\n",
       "      <th>2746</th>\n",
       "      <td>10414</td>\n",
       "      <td>47</td>\n",
       "      <td>65.52</td>\n",
       "      <td>9</td>\n",
       "      <td>3079.44</td>\n",
       "      <td>06/05/2020</td>\n",
       "      <td>2772</td>\n",
       "      <td>On Hold</td>\n",
       "      <td>Ships</td>\n",
       "      <td>54</td>\n",
       "      <td>S72_3212</td>\n",
       "      <td>Gifts4AllAges.com</td>\n",
       "      <td>6175559555</td>\n",
       "      <td>8616 Spinnaker Dr.</td>\n",
       "      <td>Boston</td>\n",
       "      <td>51003</td>\n",
       "      <td>USA</td>\n",
       "      <td>Yoshido</td>\n",
       "      <td>Juri</td>\n",
       "      <td>Medium</td>\n",
       "    </tr>\n",
       "  </tbody>\n",
       "</table>\n",
       "</div>"
      ],
      "text/plain": [
       "      ORDERNUMBER  QUANTITYORDERED  PRICEEACH  ORDERLINENUMBER    SALES  \\\n",
       "2742        10350               20     112.22               15  2244.40   \n",
       "2743        10373               29     137.19                1  3978.51   \n",
       "2744        10386               43     125.99                4  5417.57   \n",
       "2745        10397               34      62.24                1  2116.16   \n",
       "2746        10414               47      65.52                9  3079.44   \n",
       "\n",
       "       ORDERDATE  DAYS_SINCE_LASTORDER    STATUS PRODUCTLINE  MSRP  \\\n",
       "2742  02/12/2019                  2924   Shipped       Ships    54   \n",
       "2743  31/01/2020                  2865   Shipped       Ships    54   \n",
       "2744  01/03/2020                  2836  Resolved       Ships    54   \n",
       "2745  28/03/2020                  2810   Shipped       Ships    54   \n",
       "2746  06/05/2020                  2772   On Hold       Ships    54   \n",
       "\n",
       "     PRODUCTCODE             CUSTOMERNAME           PHONE  \\\n",
       "2742    S72_3212    Euro Shopping Channel  (91) 555 94 44   \n",
       "2743    S72_3212  Oulu Toy Supplies, Inc.      981-443655   \n",
       "2744    S72_3212    Euro Shopping Channel  (91) 555 94 44   \n",
       "2745    S72_3212             Alpha Cognac      61.77.6555   \n",
       "2746    S72_3212        Gifts4AllAges.com      6175559555   \n",
       "\n",
       "               ADDRESSLINE1      CITY POSTALCODE  COUNTRY CONTACTLASTNAME  \\\n",
       "2742     C/ Moralzarzal, 86    Madrid      28034    Spain          Freyre   \n",
       "2743            Torikatu 38      Oulu      90110  Finland       Koskitalo   \n",
       "2744     C/ Moralzarzal, 86    Madrid      28034    Spain          Freyre   \n",
       "2745  1 rue Alsace-Lorraine  Toulouse      31000   France          Roulet   \n",
       "2746     8616 Spinnaker Dr.    Boston      51003      USA         Yoshido   \n",
       "\n",
       "     CONTACTFIRSTNAME DEALSIZE  \n",
       "2742            Diego    Small  \n",
       "2743           Pirkko   Medium  \n",
       "2744            Diego   Medium  \n",
       "2745          Annette    Small  \n",
       "2746             Juri   Medium  "
      ]
     },
     "execution_count": 37,
     "metadata": {},
     "output_type": "execute_result"
    }
   ],
   "source": [
    "a.tail()"
   ]
  },
  {
   "cell_type": "markdown",
   "metadata": {},
   "source": [
    "## 5. Checking Datatype"
   ]
  },
  {
   "cell_type": "markdown",
   "metadata": {},
   "source": [
    "To determine the type of each column for graph plotting."
   ]
  },
  {
   "cell_type": "code",
   "execution_count": 38,
   "metadata": {},
   "outputs": [
    {
     "data": {
      "text/plain": [
       "ORDERNUMBER               int64\n",
       "QUANTITYORDERED           int64\n",
       "PRICEEACH               float64\n",
       "ORDERLINENUMBER           int64\n",
       "SALES                   float64\n",
       "ORDERDATE                object\n",
       "DAYS_SINCE_LASTORDER      int64\n",
       "STATUS                   object\n",
       "PRODUCTLINE              object\n",
       "MSRP                      int64\n",
       "PRODUCTCODE              object\n",
       "CUSTOMERNAME             object\n",
       "PHONE                    object\n",
       "ADDRESSLINE1             object\n",
       "CITY                     object\n",
       "POSTALCODE               object\n",
       "COUNTRY                  object\n",
       "CONTACTLASTNAME          object\n",
       "CONTACTFIRSTNAME         object\n",
       "DEALSIZE                 object\n",
       "dtype: object"
      ]
     },
     "execution_count": 38,
     "metadata": {},
     "output_type": "execute_result"
    }
   ],
   "source": [
    "a.dtypes"
   ]
  },
  {
   "cell_type": "markdown",
   "metadata": {},
   "source": [
    "# 6. Shapes"
   ]
  },
  {
   "cell_type": "markdown",
   "metadata": {},
   "source": [
    "We get the shape of the data"
   ]
  },
  {
   "cell_type": "code",
   "execution_count": 39,
   "metadata": {},
   "outputs": [
    {
     "data": {
      "text/plain": [
       "(2747, 20)"
      ]
     },
     "execution_count": 39,
     "metadata": {},
     "output_type": "execute_result"
    }
   ],
   "source": [
    "a.shape"
   ]
  },
  {
   "cell_type": "markdown",
   "metadata": {},
   "source": [
    "# 7. Counts "
   ]
  },
  {
   "cell_type": "markdown",
   "metadata": {},
   "source": [
    "Here we will get the count"
   ]
  },
  {
   "cell_type": "code",
   "execution_count": 40,
   "metadata": {},
   "outputs": [
    {
     "data": {
      "text/plain": [
       "ORDERNUMBER             2747\n",
       "QUANTITYORDERED         2747\n",
       "PRICEEACH               2747\n",
       "ORDERLINENUMBER         2747\n",
       "SALES                   2747\n",
       "ORDERDATE               2747\n",
       "DAYS_SINCE_LASTORDER    2747\n",
       "STATUS                  2747\n",
       "PRODUCTLINE             2747\n",
       "MSRP                    2747\n",
       "PRODUCTCODE             2747\n",
       "CUSTOMERNAME            2747\n",
       "PHONE                   2747\n",
       "ADDRESSLINE1            2747\n",
       "CITY                    2747\n",
       "POSTALCODE              2747\n",
       "COUNTRY                 2747\n",
       "CONTACTLASTNAME         2747\n",
       "CONTACTFIRSTNAME        2747\n",
       "DEALSIZE                2747\n",
       "dtype: int64"
      ]
     },
     "execution_count": 40,
     "metadata": {},
     "output_type": "execute_result"
    }
   ],
   "source": [
    "a.count()"
   ]
  },
  {
   "cell_type": "markdown",
   "metadata": {},
   "source": [
    "## 8. Searching & Dropping Duplicate Rows"
   ]
  },
  {
   "cell_type": "markdown",
   "metadata": {},
   "source": [
    "We will get the duplicates from here , we can clear the dups from this data"
   ]
  },
  {
   "cell_type": "code",
   "execution_count": 41,
   "metadata": {},
   "outputs": [
    {
     "data": {
      "text/plain": [
       "0       False\n",
       "1       False\n",
       "2       False\n",
       "3       False\n",
       "4       False\n",
       "        ...  \n",
       "2742    False\n",
       "2743    False\n",
       "2744    False\n",
       "2745    False\n",
       "2746    False\n",
       "Length: 2747, dtype: bool"
      ]
     },
     "execution_count": 41,
     "metadata": {},
     "output_type": "execute_result"
    }
   ],
   "source": [
    "a.duplicated()"
   ]
  },
  {
   "cell_type": "markdown",
   "metadata": {},
   "source": [
    "## 9. Drop Missing or Null Values"
   ]
  },
  {
   "cell_type": "markdown",
   "metadata": {},
   "source": [
    "The idea of this step is to drop any missing values that are found in the data. So first let's check for any missing value."
   ]
  },
  {
   "cell_type": "code",
   "execution_count": 42,
   "metadata": {},
   "outputs": [
    {
     "data": {
      "text/plain": [
       "ORDERNUMBER             0\n",
       "QUANTITYORDERED         0\n",
       "PRICEEACH               0\n",
       "ORDERLINENUMBER         0\n",
       "SALES                   0\n",
       "ORDERDATE               0\n",
       "DAYS_SINCE_LASTORDER    0\n",
       "STATUS                  0\n",
       "PRODUCTLINE             0\n",
       "MSRP                    0\n",
       "PRODUCTCODE             0\n",
       "CUSTOMERNAME            0\n",
       "PHONE                   0\n",
       "ADDRESSLINE1            0\n",
       "CITY                    0\n",
       "POSTALCODE              0\n",
       "COUNTRY                 0\n",
       "CONTACTLASTNAME         0\n",
       "CONTACTFIRSTNAME        0\n",
       "DEALSIZE                0\n",
       "dtype: int64"
      ]
     },
     "execution_count": 42,
     "metadata": {},
     "output_type": "execute_result"
    }
   ],
   "source": [
    "a.isnull().sum()"
   ]
  },
  {
   "cell_type": "markdown",
   "metadata": {},
   "source": [
    "## 10. Rename Columns"
   ]
  },
  {
   "cell_type": "markdown",
   "metadata": {},
   "source": [
    "Renaming columns for better understanding."
   ]
  },
  {
   "cell_type": "code",
   "execution_count": 43,
   "metadata": {},
   "outputs": [],
   "source": [
    "a.rename(columns={'PRODUCTCODE':'PRODUCT_CODE','ORDERNUMBER':'ORDER_NUMBER','QUANTITYORDERED':'QUANTITY_ORDERED','PRICEEACH':'PRICE_EACH','ORDERLINENUMBER':'ORDERLINE_NUMBER','ORDERDATE':'ORDER_DATE','PRODUCTLINE':'PRODUCT_LINE','CUSTOMERNAME':'CUSTOMER_NAME','POSTALCODE':'POSTAL_CODE','CONTACTLASTNAME':'CONTACTLASTNAME','CONTACTFIRSTNAME':'CONTACT_FIRST_NAME','DEALSIZE':'DEAL_SIZE'},inplace=True)\n"
   ]
  },
  {
   "cell_type": "code",
   "execution_count": 44,
   "metadata": {},
   "outputs": [],
   "source": [
    "a.drop(columns=['POSTAL_CODE'],inplace=True)"
   ]
  },
  {
   "cell_type": "markdown",
   "metadata": {},
   "source": [
    "## 11. Exploring Data"
   ]
  },
  {
   "cell_type": "markdown",
   "metadata": {},
   "source": [
    "Now we go deep into the analysis of our data. The analysis involves sorting and grouping and filtering of items "
   ]
  },
  {
   "cell_type": "markdown",
   "metadata": {},
   "source": [
    "Here we find count the unique products."
   ]
  },
  {
   "cell_type": "code",
   "execution_count": 45,
   "metadata": {},
   "outputs": [
    {
     "data": {
      "text/plain": [
       "7"
      ]
     },
     "execution_count": 45,
     "metadata": {},
     "output_type": "execute_result"
    }
   ],
   "source": [
    "a['PRODUCT_LINE'].nunique()"
   ]
  },
  {
   "cell_type": "markdown",
   "metadata": {},
   "source": [
    "Finding unique products."
   ]
  },
  {
   "cell_type": "code",
   "execution_count": 46,
   "metadata": {},
   "outputs": [
    {
     "data": {
      "text/plain": [
       "array(['Motorcycles', 'Classic Cars', 'Trucks and Buses', 'Vintage Cars',\n",
       "       'Planes', 'Ships', 'Trains'], dtype=object)"
      ]
     },
     "execution_count": 46,
     "metadata": {},
     "output_type": "execute_result"
    }
   ],
   "source": [
    "a['PRODUCT_LINE'].unique()"
   ]
  },
  {
   "cell_type": "markdown",
   "metadata": {},
   "source": [
    "Here we get the highest sales happened in this data"
   ]
  },
  {
   "cell_type": "code",
   "execution_count": null,
   "metadata": {},
   "outputs": [],
   "source": [
    "q=a.sort_values(['SALES']).tail(1)\n",
    "q"
   ]
  },
  {
   "cell_type": "markdown",
   "metadata": {},
   "source": [
    "# 12. Grouping data"
   ]
  },
  {
   "cell_type": "markdown",
   "metadata": {},
   "source": [
    "In order to group data, we pass an argument in groupby function ans we group a data of Name using groupby() function. we got the products and sales happened in the data"
   ]
  },
  {
   "cell_type": "code",
   "execution_count": 47,
   "metadata": {},
   "outputs": [
    {
     "data": {
      "text/plain": [
       "PRODUCT_LINE\n",
       "Classic Cars        3842868.54\n",
       "Motorcycles         1103512.19\n",
       "Planes               969323.42\n",
       "Ships                700039.22\n",
       "Trains               226243.47\n",
       "Trucks and Buses    1111559.19\n",
       "Vintage Cars        1806675.68\n",
       "Name: SALES, dtype: float64"
      ]
     },
     "execution_count": 47,
     "metadata": {},
     "output_type": "execute_result"
    }
   ],
   "source": [
    "a.groupby(['PRODUCT_LINE'])['SALES'].sum()"
   ]
  },
  {
   "cell_type": "markdown",
   "metadata": {},
   "source": [
    "we can compare the status with country and the dealsize of each country"
   ]
  },
  {
   "cell_type": "code",
   "execution_count": null,
   "metadata": {},
   "outputs": [],
   "source": [
    "b=['COUNTRY','DEAL_SIZE']\n",
    "a.groupby(['STATUS'])[b].describe()"
   ]
  },
  {
   "cell_type": "markdown",
   "metadata": {},
   "source": [
    "grouping and find the most sold product."
   ]
  },
  {
   "cell_type": "code",
   "execution_count": 49,
   "metadata": {},
   "outputs": [
    {
     "data": {
      "text/plain": [
       "'Classic Cars'"
      ]
     },
     "execution_count": 49,
     "metadata": {},
     "output_type": "execute_result"
    }
   ],
   "source": [
    "a.groupby('PRODUCT_LINE')['SALES'].sum().idxmax()"
   ]
  },
  {
   "cell_type": "markdown",
   "metadata": {},
   "source": [
    "grouping and find the minimum sold product."
   ]
  },
  {
   "cell_type": "code",
   "execution_count": 50,
   "metadata": {},
   "outputs": [
    {
     "data": {
      "text/plain": [
       "'Trains'"
      ]
     },
     "execution_count": 50,
     "metadata": {},
     "output_type": "execute_result"
    }
   ],
   "source": [
    "a.groupby('PRODUCT_LINE')['SALES'].sum().idxmin()"
   ]
  },
  {
   "cell_type": "markdown",
   "metadata": {},
   "source": [
    "Here we get which country has most sales happened."
   ]
  },
  {
   "cell_type": "code",
   "execution_count": 51,
   "metadata": {},
   "outputs": [
    {
     "data": {
      "text/plain": [
       "'USA'"
      ]
     },
     "execution_count": 51,
     "metadata": {},
     "output_type": "execute_result"
    }
   ],
   "source": [
    "a.groupby('COUNTRY')['SALES'].sum().idxmax()"
   ]
  },
  {
   "cell_type": "markdown",
   "metadata": {},
   "source": [
    "Here we get which country has minimum sales happened."
   ]
  },
  {
   "cell_type": "code",
   "execution_count": 52,
   "metadata": {},
   "outputs": [
    {
     "data": {
      "text/plain": [
       "'Ireland'"
      ]
     },
     "execution_count": 52,
     "metadata": {},
     "output_type": "execute_result"
    }
   ],
   "source": [
    "a.groupby('COUNTRY')['SALES'].sum().idxmin()"
   ]
  },
  {
   "cell_type": "markdown",
   "metadata": {},
   "source": [
    "# 13. Filtering"
   ]
  },
  {
   "cell_type": "markdown",
   "metadata": {},
   "source": [
    "find the quatity ordered between two ranges using \"&\"(and) also we use \"|\" (or) in this filtering"
   ]
  },
  {
   "cell_type": "code",
   "execution_count": 53,
   "metadata": {},
   "outputs": [
    {
     "data": {
      "text/html": [
       "<div>\n",
       "<style scoped>\n",
       "    .dataframe tbody tr th:only-of-type {\n",
       "        vertical-align: middle;\n",
       "    }\n",
       "\n",
       "    .dataframe tbody tr th {\n",
       "        vertical-align: top;\n",
       "    }\n",
       "\n",
       "    .dataframe thead th {\n",
       "        text-align: right;\n",
       "    }\n",
       "</style>\n",
       "<table border=\"1\" class=\"dataframe\">\n",
       "  <thead>\n",
       "    <tr style=\"text-align: right;\">\n",
       "      <th></th>\n",
       "      <th>ORDER_NUMBER</th>\n",
       "      <th>QUANTITY_ORDERED</th>\n",
       "      <th>PRICE_EACH</th>\n",
       "      <th>ORDERLINE_NUMBER</th>\n",
       "      <th>SALES</th>\n",
       "      <th>ORDER_DATE</th>\n",
       "      <th>DAYS_SINCE_LASTORDER</th>\n",
       "      <th>STATUS</th>\n",
       "      <th>PRODUCT_LINE</th>\n",
       "      <th>MSRP</th>\n",
       "      <th>PRODUCT_CODE</th>\n",
       "      <th>CUSTOMER_NAME</th>\n",
       "      <th>PHONE</th>\n",
       "      <th>ADDRESSLINE1</th>\n",
       "      <th>CITY</th>\n",
       "      <th>COUNTRY</th>\n",
       "      <th>CONTACTLASTNAME</th>\n",
       "      <th>CONTACT_FIRST_NAME</th>\n",
       "      <th>DEAL_SIZE</th>\n",
       "    </tr>\n",
       "  </thead>\n",
       "  <tbody>\n",
       "    <tr>\n",
       "      <th>721</th>\n",
       "      <td>10409</td>\n",
       "      <td>6</td>\n",
       "      <td>130.94</td>\n",
       "      <td>2</td>\n",
       "      <td>785.64</td>\n",
       "      <td>23/04/2020</td>\n",
       "      <td>760</td>\n",
       "      <td>Shipped</td>\n",
       "      <td>Vintage Cars</td>\n",
       "      <td>127</td>\n",
       "      <td>S18_2325</td>\n",
       "      <td>Handji Gifts&amp; Co</td>\n",
       "      <td>+65 224 1555</td>\n",
       "      <td>Village Close - 106 Linden Road Sandown</td>\n",
       "      <td>Singapore</td>\n",
       "      <td>Singapore</td>\n",
       "      <td>Victorino</td>\n",
       "      <td>Wendy</td>\n",
       "      <td>Small</td>\n",
       "    </tr>\n",
       "    <tr>\n",
       "      <th>1238</th>\n",
       "      <td>10407</td>\n",
       "      <td>6</td>\n",
       "      <td>90.19</td>\n",
       "      <td>3</td>\n",
       "      <td>541.14</td>\n",
       "      <td>22/04/2020</td>\n",
       "      <td>1278</td>\n",
       "      <td>On Hold</td>\n",
       "      <td>Vintage Cars</td>\n",
       "      <td>92</td>\n",
       "      <td>S18_4409</td>\n",
       "      <td>The Sharp Gifts Warehouse</td>\n",
       "      <td>4085553659</td>\n",
       "      <td>3086 Ingle Ln.</td>\n",
       "      <td>San Jose</td>\n",
       "      <td>USA</td>\n",
       "      <td>Frick</td>\n",
       "      <td>Sue</td>\n",
       "      <td>Small</td>\n",
       "    </tr>\n",
       "  </tbody>\n",
       "</table>\n",
       "</div>"
      ],
      "text/plain": [
       "      ORDER_NUMBER  QUANTITY_ORDERED  PRICE_EACH  ORDERLINE_NUMBER   SALES  \\\n",
       "721          10409                 6      130.94                 2  785.64   \n",
       "1238         10407                 6       90.19                 3  541.14   \n",
       "\n",
       "      ORDER_DATE  DAYS_SINCE_LASTORDER   STATUS  PRODUCT_LINE  MSRP  \\\n",
       "721   23/04/2020                   760  Shipped  Vintage Cars   127   \n",
       "1238  22/04/2020                  1278  On Hold  Vintage Cars    92   \n",
       "\n",
       "     PRODUCT_CODE              CUSTOMER_NAME         PHONE  \\\n",
       "721      S18_2325           Handji Gifts& Co  +65 224 1555   \n",
       "1238     S18_4409  The Sharp Gifts Warehouse    4085553659   \n",
       "\n",
       "                                 ADDRESSLINE1       CITY    COUNTRY  \\\n",
       "721   Village Close - 106 Linden Road Sandown  Singapore  Singapore   \n",
       "1238                           3086 Ingle Ln.   San Jose        USA   \n",
       "\n",
       "     CONTACTLASTNAME CONTACT_FIRST_NAME DEAL_SIZE  \n",
       "721        Victorino              Wendy     Small  \n",
       "1238           Frick                Sue     Small  "
      ]
     },
     "execution_count": 53,
     "metadata": {},
     "output_type": "execute_result"
    }
   ],
   "source": [
    "a[(a['QUANTITY_ORDERED']>0)&(a['QUANTITY_ORDERED']<10)|(a['MSRP']<30)]"
   ]
  },
  {
   "cell_type": "markdown",
   "metadata": {},
   "source": [
    "Here we find the details of quantity ordered less than 50 and remove it. "
   ]
  },
  {
   "cell_type": "code",
   "execution_count": 54,
   "metadata": {},
   "outputs": [
    {
     "data": {
      "text/html": [
       "<div>\n",
       "<style scoped>\n",
       "    .dataframe tbody tr th:only-of-type {\n",
       "        vertical-align: middle;\n",
       "    }\n",
       "\n",
       "    .dataframe tbody tr th {\n",
       "        vertical-align: top;\n",
       "    }\n",
       "\n",
       "    .dataframe thead th {\n",
       "        text-align: right;\n",
       "    }\n",
       "</style>\n",
       "<table border=\"1\" class=\"dataframe\">\n",
       "  <thead>\n",
       "    <tr style=\"text-align: right;\">\n",
       "      <th></th>\n",
       "      <th>ORDER_NUMBER</th>\n",
       "      <th>QUANTITY_ORDERED</th>\n",
       "      <th>PRICE_EACH</th>\n",
       "      <th>ORDERLINE_NUMBER</th>\n",
       "      <th>SALES</th>\n",
       "      <th>ORDER_DATE</th>\n",
       "      <th>DAYS_SINCE_LASTORDER</th>\n",
       "      <th>STATUS</th>\n",
       "      <th>PRODUCT_LINE</th>\n",
       "      <th>MSRP</th>\n",
       "      <th>PRODUCT_CODE</th>\n",
       "      <th>CUSTOMER_NAME</th>\n",
       "      <th>PHONE</th>\n",
       "      <th>ADDRESSLINE1</th>\n",
       "      <th>CITY</th>\n",
       "      <th>COUNTRY</th>\n",
       "      <th>CONTACTLASTNAME</th>\n",
       "      <th>CONTACT_FIRST_NAME</th>\n",
       "      <th>DEAL_SIZE</th>\n",
       "    </tr>\n",
       "  </thead>\n",
       "  <tbody>\n",
       "    <tr>\n",
       "      <th>23</th>\n",
       "      <td>10417</td>\n",
       "      <td>66</td>\n",
       "      <td>113.88</td>\n",
       "      <td>2</td>\n",
       "      <td>7516.08</td>\n",
       "      <td>13/05/2020</td>\n",
       "      <td>42</td>\n",
       "      <td>Disputed</td>\n",
       "      <td>Motorcycles</td>\n",
       "      <td>95</td>\n",
       "      <td>S10_1678</td>\n",
       "      <td>Euro Shopping Channel</td>\n",
       "      <td>(91) 555 94 44</td>\n",
       "      <td>C/ Moralzarzal, 86</td>\n",
       "      <td>Madrid</td>\n",
       "      <td>Spain</td>\n",
       "      <td>Freyre</td>\n",
       "      <td>Diego</td>\n",
       "      <td>Large</td>\n",
       "    </tr>\n",
       "    <tr>\n",
       "      <th>49</th>\n",
       "      <td>10424</td>\n",
       "      <td>50</td>\n",
       "      <td>240.02</td>\n",
       "      <td>6</td>\n",
       "      <td>12001.00</td>\n",
       "      <td>31/05/2020</td>\n",
       "      <td>50</td>\n",
       "      <td>In Process</td>\n",
       "      <td>Classic Cars</td>\n",
       "      <td>214</td>\n",
       "      <td>S10_1949</td>\n",
       "      <td>Euro Shopping Channel</td>\n",
       "      <td>(91) 555 94 44</td>\n",
       "      <td>C/ Moralzarzal, 86</td>\n",
       "      <td>Madrid</td>\n",
       "      <td>Spain</td>\n",
       "      <td>Freyre</td>\n",
       "      <td>Diego</td>\n",
       "      <td>Large</td>\n",
       "    </tr>\n",
       "    <tr>\n",
       "      <th>71</th>\n",
       "      <td>10388</td>\n",
       "      <td>50</td>\n",
       "      <td>44.51</td>\n",
       "      <td>5</td>\n",
       "      <td>2225.50</td>\n",
       "      <td>03/03/2020</td>\n",
       "      <td>161</td>\n",
       "      <td>Shipped</td>\n",
       "      <td>Motorcycles</td>\n",
       "      <td>118</td>\n",
       "      <td>S10_2016</td>\n",
       "      <td>FunGiftIdeas.com</td>\n",
       "      <td>5085552555</td>\n",
       "      <td>1785 First Street</td>\n",
       "      <td>New Bedford</td>\n",
       "      <td>USA</td>\n",
       "      <td>Benitez</td>\n",
       "      <td>Violeta</td>\n",
       "      <td>Small</td>\n",
       "    </tr>\n",
       "    <tr>\n",
       "      <th>96</th>\n",
       "      <td>10403</td>\n",
       "      <td>66</td>\n",
       "      <td>180.10</td>\n",
       "      <td>9</td>\n",
       "      <td>11886.60</td>\n",
       "      <td>08/04/2020</td>\n",
       "      <td>150</td>\n",
       "      <td>Shipped</td>\n",
       "      <td>Motorcycles</td>\n",
       "      <td>193</td>\n",
       "      <td>S10_4698</td>\n",
       "      <td>UK Collectables, Ltd.</td>\n",
       "      <td>(171) 555-2282</td>\n",
       "      <td>Berkeley Gardens 12  Brewery</td>\n",
       "      <td>Liverpool</td>\n",
       "      <td>UK</td>\n",
       "      <td>Devon</td>\n",
       "      <td>Elizabeth</td>\n",
       "      <td>Large</td>\n",
       "    </tr>\n",
       "    <tr>\n",
       "      <th>97</th>\n",
       "      <td>10417</td>\n",
       "      <td>56</td>\n",
       "      <td>164.61</td>\n",
       "      <td>4</td>\n",
       "      <td>9218.16</td>\n",
       "      <td>13/05/2020</td>\n",
       "      <td>116</td>\n",
       "      <td>Disputed</td>\n",
       "      <td>Motorcycles</td>\n",
       "      <td>193</td>\n",
       "      <td>S10_4698</td>\n",
       "      <td>Euro Shopping Channel</td>\n",
       "      <td>(91) 555 94 44</td>\n",
       "      <td>C/ Moralzarzal, 86</td>\n",
       "      <td>Madrid</td>\n",
       "      <td>Spain</td>\n",
       "      <td>Freyre</td>\n",
       "      <td>Diego</td>\n",
       "      <td>Large</td>\n",
       "    </tr>\n",
       "    <tr>\n",
       "      <th>...</th>\n",
       "      <td>...</td>\n",
       "      <td>...</td>\n",
       "      <td>...</td>\n",
       "      <td>...</td>\n",
       "      <td>...</td>\n",
       "      <td>...</td>\n",
       "      <td>...</td>\n",
       "      <td>...</td>\n",
       "      <td>...</td>\n",
       "      <td>...</td>\n",
       "      <td>...</td>\n",
       "      <td>...</td>\n",
       "      <td>...</td>\n",
       "      <td>...</td>\n",
       "      <td>...</td>\n",
       "      <td>...</td>\n",
       "      <td>...</td>\n",
       "      <td>...</td>\n",
       "      <td>...</td>\n",
       "    </tr>\n",
       "    <tr>\n",
       "      <th>2655</th>\n",
       "      <td>10261</td>\n",
       "      <td>50</td>\n",
       "      <td>81.43</td>\n",
       "      <td>6</td>\n",
       "      <td>4071.50</td>\n",
       "      <td>17/06/2019</td>\n",
       "      <td>3005</td>\n",
       "      <td>Shipped</td>\n",
       "      <td>Ships</td>\n",
       "      <td>99</td>\n",
       "      <td>S700_3962</td>\n",
       "      <td>Quebec Home Shopping Network</td>\n",
       "      <td>(514) 555-8054</td>\n",
       "      <td>43 rue St. Laurent</td>\n",
       "      <td>Montreal</td>\n",
       "      <td>Canada</td>\n",
       "      <td>Fresnisre</td>\n",
       "      <td>Jean</td>\n",
       "      <td>Medium</td>\n",
       "    </tr>\n",
       "    <tr>\n",
       "      <th>2687</th>\n",
       "      <td>10339</td>\n",
       "      <td>50</td>\n",
       "      <td>57.86</td>\n",
       "      <td>8</td>\n",
       "      <td>2893.00</td>\n",
       "      <td>23/11/2019</td>\n",
       "      <td>2878</td>\n",
       "      <td>Shipped</td>\n",
       "      <td>Planes</td>\n",
       "      <td>74</td>\n",
       "      <td>S700_4002</td>\n",
       "      <td>Tokyo Collectables, Ltd</td>\n",
       "      <td>+81 3 3584 0555</td>\n",
       "      <td>2-2-8 Roppongi</td>\n",
       "      <td>Minato-ku</td>\n",
       "      <td>Japan</td>\n",
       "      <td>Shimamura</td>\n",
       "      <td>Akiko</td>\n",
       "      <td>Small</td>\n",
       "    </tr>\n",
       "    <tr>\n",
       "      <th>2717</th>\n",
       "      <td>10386</td>\n",
       "      <td>50</td>\n",
       "      <td>87.15</td>\n",
       "      <td>16</td>\n",
       "      <td>4357.50</td>\n",
       "      <td>01/03/2020</td>\n",
       "      <td>2809</td>\n",
       "      <td>Resolved</td>\n",
       "      <td>Planes</td>\n",
       "      <td>49</td>\n",
       "      <td>S72_1253</td>\n",
       "      <td>Euro Shopping Channel</td>\n",
       "      <td>(91) 555 94 44</td>\n",
       "      <td>C/ Moralzarzal, 86</td>\n",
       "      <td>Madrid</td>\n",
       "      <td>Spain</td>\n",
       "      <td>Freyre</td>\n",
       "      <td>Diego</td>\n",
       "      <td>Medium</td>\n",
       "    </tr>\n",
       "    <tr>\n",
       "      <th>2722</th>\n",
       "      <td>10117</td>\n",
       "      <td>50</td>\n",
       "      <td>43.68</td>\n",
       "      <td>2</td>\n",
       "      <td>2184.00</td>\n",
       "      <td>16/04/2018</td>\n",
       "      <td>3499</td>\n",
       "      <td>Shipped</td>\n",
       "      <td>Ships</td>\n",
       "      <td>54</td>\n",
       "      <td>S72_3212</td>\n",
       "      <td>Dragon Souveniers, Ltd.</td>\n",
       "      <td>+65 221 7555</td>\n",
       "      <td>Bronz Sok., Bronz Apt. 3/6 Tesvikiye</td>\n",
       "      <td>Singapore</td>\n",
       "      <td>Singapore</td>\n",
       "      <td>Natividad</td>\n",
       "      <td>Eric</td>\n",
       "      <td>Small</td>\n",
       "    </tr>\n",
       "    <tr>\n",
       "      <th>2725</th>\n",
       "      <td>10153</td>\n",
       "      <td>50</td>\n",
       "      <td>60.06</td>\n",
       "      <td>4</td>\n",
       "      <td>3003.00</td>\n",
       "      <td>28/09/2018</td>\n",
       "      <td>3337</td>\n",
       "      <td>Shipped</td>\n",
       "      <td>Ships</td>\n",
       "      <td>54</td>\n",
       "      <td>S72_3212</td>\n",
       "      <td>Euro Shopping Channel</td>\n",
       "      <td>(91) 555 94 44</td>\n",
       "      <td>C/ Moralzarzal, 86</td>\n",
       "      <td>Madrid</td>\n",
       "      <td>Spain</td>\n",
       "      <td>Freyre</td>\n",
       "      <td>Diego</td>\n",
       "      <td>Medium</td>\n",
       "    </tr>\n",
       "  </tbody>\n",
       "</table>\n",
       "<p>117 rows × 19 columns</p>\n",
       "</div>"
      ],
      "text/plain": [
       "      ORDER_NUMBER  QUANTITY_ORDERED  PRICE_EACH  ORDERLINE_NUMBER     SALES  \\\n",
       "23           10417                66      113.88                 2   7516.08   \n",
       "49           10424                50      240.02                 6  12001.00   \n",
       "71           10388                50       44.51                 5   2225.50   \n",
       "96           10403                66      180.10                 9  11886.60   \n",
       "97           10417                56      164.61                 4   9218.16   \n",
       "...            ...               ...         ...               ...       ...   \n",
       "2655         10261                50       81.43                 6   4071.50   \n",
       "2687         10339                50       57.86                 8   2893.00   \n",
       "2717         10386                50       87.15                16   4357.50   \n",
       "2722         10117                50       43.68                 2   2184.00   \n",
       "2725         10153                50       60.06                 4   3003.00   \n",
       "\n",
       "      ORDER_DATE  DAYS_SINCE_LASTORDER      STATUS  PRODUCT_LINE  MSRP  \\\n",
       "23    13/05/2020                    42    Disputed   Motorcycles    95   \n",
       "49    31/05/2020                    50  In Process  Classic Cars   214   \n",
       "71    03/03/2020                   161     Shipped   Motorcycles   118   \n",
       "96    08/04/2020                   150     Shipped   Motorcycles   193   \n",
       "97    13/05/2020                   116    Disputed   Motorcycles   193   \n",
       "...          ...                   ...         ...           ...   ...   \n",
       "2655  17/06/2019                  3005     Shipped         Ships    99   \n",
       "2687  23/11/2019                  2878     Shipped        Planes    74   \n",
       "2717  01/03/2020                  2809    Resolved        Planes    49   \n",
       "2722  16/04/2018                  3499     Shipped         Ships    54   \n",
       "2725  28/09/2018                  3337     Shipped         Ships    54   \n",
       "\n",
       "     PRODUCT_CODE                 CUSTOMER_NAME            PHONE  \\\n",
       "23       S10_1678         Euro Shopping Channel   (91) 555 94 44   \n",
       "49       S10_1949         Euro Shopping Channel   (91) 555 94 44   \n",
       "71       S10_2016              FunGiftIdeas.com       5085552555   \n",
       "96       S10_4698         UK Collectables, Ltd.   (171) 555-2282   \n",
       "97       S10_4698         Euro Shopping Channel   (91) 555 94 44   \n",
       "...           ...                           ...              ...   \n",
       "2655    S700_3962  Quebec Home Shopping Network   (514) 555-8054   \n",
       "2687    S700_4002       Tokyo Collectables, Ltd  +81 3 3584 0555   \n",
       "2717     S72_1253         Euro Shopping Channel   (91) 555 94 44   \n",
       "2722     S72_3212       Dragon Souveniers, Ltd.     +65 221 7555   \n",
       "2725     S72_3212         Euro Shopping Channel   (91) 555 94 44   \n",
       "\n",
       "                              ADDRESSLINE1         CITY    COUNTRY  \\\n",
       "23                      C/ Moralzarzal, 86       Madrid      Spain   \n",
       "49                      C/ Moralzarzal, 86       Madrid      Spain   \n",
       "71                       1785 First Street  New Bedford        USA   \n",
       "96            Berkeley Gardens 12  Brewery    Liverpool         UK   \n",
       "97                      C/ Moralzarzal, 86       Madrid      Spain   \n",
       "...                                    ...          ...        ...   \n",
       "2655                    43 rue St. Laurent     Montreal     Canada   \n",
       "2687                        2-2-8 Roppongi    Minato-ku      Japan   \n",
       "2717                    C/ Moralzarzal, 86       Madrid      Spain   \n",
       "2722  Bronz Sok., Bronz Apt. 3/6 Tesvikiye    Singapore  Singapore   \n",
       "2725                    C/ Moralzarzal, 86       Madrid      Spain   \n",
       "\n",
       "     CONTACTLASTNAME CONTACT_FIRST_NAME DEAL_SIZE  \n",
       "23            Freyre              Diego     Large  \n",
       "49            Freyre              Diego     Large  \n",
       "71           Benitez            Violeta     Small  \n",
       "96             Devon          Elizabeth     Large  \n",
       "97            Freyre              Diego     Large  \n",
       "...              ...                ...       ...  \n",
       "2655       Fresnisre               Jean    Medium  \n",
       "2687       Shimamura              Akiko     Small  \n",
       "2717          Freyre              Diego    Medium  \n",
       "2722       Natividad               Eric     Small  \n",
       "2725          Freyre              Diego    Medium  \n",
       "\n",
       "[117 rows x 19 columns]"
      ]
     },
     "execution_count": 54,
     "metadata": {},
     "output_type": "execute_result"
    }
   ],
   "source": [
    "b=a[~(a['QUANTITY_ORDERED']<50)]\n",
    "b"
   ]
  },
  {
   "cell_type": "markdown",
   "metadata": {},
   "source": [
    "using this filtering we got the orders got from last year in this data"
   ]
  },
  {
   "cell_type": "code",
   "execution_count": 55,
   "metadata": {},
   "outputs": [
    {
     "data": {
      "text/html": [
       "<div>\n",
       "<style scoped>\n",
       "    .dataframe tbody tr th:only-of-type {\n",
       "        vertical-align: middle;\n",
       "    }\n",
       "\n",
       "    .dataframe tbody tr th {\n",
       "        vertical-align: top;\n",
       "    }\n",
       "\n",
       "    .dataframe thead th {\n",
       "        text-align: right;\n",
       "    }\n",
       "</style>\n",
       "<table border=\"1\" class=\"dataframe\">\n",
       "  <thead>\n",
       "    <tr style=\"text-align: right;\">\n",
       "      <th></th>\n",
       "      <th>ORDER_NUMBER</th>\n",
       "      <th>QUANTITY_ORDERED</th>\n",
       "      <th>PRICE_EACH</th>\n",
       "      <th>ORDERLINE_NUMBER</th>\n",
       "      <th>SALES</th>\n",
       "      <th>ORDER_DATE</th>\n",
       "      <th>DAYS_SINCE_LASTORDER</th>\n",
       "      <th>STATUS</th>\n",
       "      <th>PRODUCT_LINE</th>\n",
       "      <th>MSRP</th>\n",
       "      <th>PRODUCT_CODE</th>\n",
       "      <th>CUSTOMER_NAME</th>\n",
       "      <th>PHONE</th>\n",
       "      <th>ADDRESSLINE1</th>\n",
       "      <th>CITY</th>\n",
       "      <th>COUNTRY</th>\n",
       "      <th>CONTACTLASTNAME</th>\n",
       "      <th>CONTACT_FIRST_NAME</th>\n",
       "      <th>DEAL_SIZE</th>\n",
       "    </tr>\n",
       "  </thead>\n",
       "  <tbody>\n",
       "    <tr>\n",
       "      <th>11</th>\n",
       "      <td>10263</td>\n",
       "      <td>34</td>\n",
       "      <td>108.14</td>\n",
       "      <td>2</td>\n",
       "      <td>3676.76</td>\n",
       "      <td>28/06/2019</td>\n",
       "      <td>350</td>\n",
       "      <td>Shipped</td>\n",
       "      <td>Motorcycles</td>\n",
       "      <td>95</td>\n",
       "      <td>S10_1678</td>\n",
       "      <td>Gift Depot Inc.</td>\n",
       "      <td>2035552570</td>\n",
       "      <td>25593 South Bay Ln.</td>\n",
       "      <td>Bridgewater</td>\n",
       "      <td>USA</td>\n",
       "      <td>King</td>\n",
       "      <td>Julie</td>\n",
       "      <td>Medium</td>\n",
       "    </tr>\n",
       "    <tr>\n",
       "      <th>12</th>\n",
       "      <td>10275</td>\n",
       "      <td>45</td>\n",
       "      <td>92.83</td>\n",
       "      <td>1</td>\n",
       "      <td>4177.35</td>\n",
       "      <td>23/07/2019</td>\n",
       "      <td>326</td>\n",
       "      <td>Shipped</td>\n",
       "      <td>Motorcycles</td>\n",
       "      <td>95</td>\n",
       "      <td>S10_1678</td>\n",
       "      <td>La Rochelle Gifts</td>\n",
       "      <td>40.67.8555</td>\n",
       "      <td>67, rue des Cinquante Otages</td>\n",
       "      <td>Nantes</td>\n",
       "      <td>France</td>\n",
       "      <td>Labrune</td>\n",
       "      <td>Janine</td>\n",
       "      <td>Medium</td>\n",
       "    </tr>\n",
       "    <tr>\n",
       "      <th>13</th>\n",
       "      <td>10285</td>\n",
       "      <td>36</td>\n",
       "      <td>113.88</td>\n",
       "      <td>6</td>\n",
       "      <td>4099.68</td>\n",
       "      <td>27/08/2019</td>\n",
       "      <td>292</td>\n",
       "      <td>Shipped</td>\n",
       "      <td>Motorcycles</td>\n",
       "      <td>95</td>\n",
       "      <td>S10_1678</td>\n",
       "      <td>Marta's Replicas Co.</td>\n",
       "      <td>6175558555</td>\n",
       "      <td>39323 Spinnaker Dr.</td>\n",
       "      <td>Cambridge</td>\n",
       "      <td>USA</td>\n",
       "      <td>Hernandez</td>\n",
       "      <td>Marta</td>\n",
       "      <td>Medium</td>\n",
       "    </tr>\n",
       "    <tr>\n",
       "      <th>14</th>\n",
       "      <td>10299</td>\n",
       "      <td>23</td>\n",
       "      <td>112.93</td>\n",
       "      <td>9</td>\n",
       "      <td>2597.39</td>\n",
       "      <td>30/09/2019</td>\n",
       "      <td>259</td>\n",
       "      <td>Shipped</td>\n",
       "      <td>Motorcycles</td>\n",
       "      <td>95</td>\n",
       "      <td>S10_1678</td>\n",
       "      <td>Toys of Finland, Co.</td>\n",
       "      <td>90-224 8555</td>\n",
       "      <td>Keskuskatu 45</td>\n",
       "      <td>Helsinki</td>\n",
       "      <td>Finland</td>\n",
       "      <td>Karttunen</td>\n",
       "      <td>Matti</td>\n",
       "      <td>Small</td>\n",
       "    </tr>\n",
       "    <tr>\n",
       "      <th>15</th>\n",
       "      <td>10309</td>\n",
       "      <td>41</td>\n",
       "      <td>107.18</td>\n",
       "      <td>5</td>\n",
       "      <td>4394.38</td>\n",
       "      <td>15/10/2019</td>\n",
       "      <td>245</td>\n",
       "      <td>Shipped</td>\n",
       "      <td>Motorcycles</td>\n",
       "      <td>95</td>\n",
       "      <td>S10_1678</td>\n",
       "      <td>Baane Mini Imports</td>\n",
       "      <td>07-98 9555</td>\n",
       "      <td>Erling Skakkes gate 78</td>\n",
       "      <td>Stavern</td>\n",
       "      <td>Norway</td>\n",
       "      <td>Bergulfsen</td>\n",
       "      <td>Jonas</td>\n",
       "      <td>Medium</td>\n",
       "    </tr>\n",
       "    <tr>\n",
       "      <th>...</th>\n",
       "      <td>...</td>\n",
       "      <td>...</td>\n",
       "      <td>...</td>\n",
       "      <td>...</td>\n",
       "      <td>...</td>\n",
       "      <td>...</td>\n",
       "      <td>...</td>\n",
       "      <td>...</td>\n",
       "      <td>...</td>\n",
       "      <td>...</td>\n",
       "      <td>...</td>\n",
       "      <td>...</td>\n",
       "      <td>...</td>\n",
       "      <td>...</td>\n",
       "      <td>...</td>\n",
       "      <td>...</td>\n",
       "      <td>...</td>\n",
       "      <td>...</td>\n",
       "      <td>...</td>\n",
       "    </tr>\n",
       "    <tr>\n",
       "      <th>249</th>\n",
       "      <td>10417</td>\n",
       "      <td>21</td>\n",
       "      <td>164.18</td>\n",
       "      <td>1</td>\n",
       "      <td>3447.78</td>\n",
       "      <td>13/05/2020</td>\n",
       "      <td>268</td>\n",
       "      <td>Disputed</td>\n",
       "      <td>Motorcycles</td>\n",
       "      <td>150</td>\n",
       "      <td>S12_2823</td>\n",
       "      <td>Euro Shopping Channel</td>\n",
       "      <td>(91) 555 94 44</td>\n",
       "      <td>C/ Moralzarzal, 86</td>\n",
       "      <td>Madrid</td>\n",
       "      <td>Spain</td>\n",
       "      <td>Freyre</td>\n",
       "      <td>Diego</td>\n",
       "      <td>Medium</td>\n",
       "    </tr>\n",
       "    <tr>\n",
       "      <th>274</th>\n",
       "      <td>10413</td>\n",
       "      <td>47</td>\n",
       "      <td>175.25</td>\n",
       "      <td>3</td>\n",
       "      <td>8236.75</td>\n",
       "      <td>05/05/2020</td>\n",
       "      <td>301</td>\n",
       "      <td>Shipped</td>\n",
       "      <td>Classic Cars</td>\n",
       "      <td>151</td>\n",
       "      <td>S12_3148</td>\n",
       "      <td>Gift Depot Inc.</td>\n",
       "      <td>2035552570</td>\n",
       "      <td>25593 South Bay Ln.</td>\n",
       "      <td>Bridgewater</td>\n",
       "      <td>USA</td>\n",
       "      <td>King</td>\n",
       "      <td>Julie</td>\n",
       "      <td>Large</td>\n",
       "    </tr>\n",
       "    <tr>\n",
       "      <th>298</th>\n",
       "      <td>10419</td>\n",
       "      <td>10</td>\n",
       "      <td>109.22</td>\n",
       "      <td>11</td>\n",
       "      <td>1092.20</td>\n",
       "      <td>17/05/2020</td>\n",
       "      <td>313</td>\n",
       "      <td>Shipped</td>\n",
       "      <td>Classic Cars</td>\n",
       "      <td>117</td>\n",
       "      <td>S12_3380</td>\n",
       "      <td>Salzburg Collectables</td>\n",
       "      <td>6562-9555</td>\n",
       "      <td>Geislweg 14</td>\n",
       "      <td>Salzburg</td>\n",
       "      <td>Austria</td>\n",
       "      <td>Pipps</td>\n",
       "      <td>Georg</td>\n",
       "      <td>Small</td>\n",
       "    </tr>\n",
       "    <tr>\n",
       "      <th>324</th>\n",
       "      <td>10413</td>\n",
       "      <td>22</td>\n",
       "      <td>153.99</td>\n",
       "      <td>1</td>\n",
       "      <td>3387.78</td>\n",
       "      <td>05/05/2020</td>\n",
       "      <td>351</td>\n",
       "      <td>Shipped</td>\n",
       "      <td>Classic Cars</td>\n",
       "      <td>173</td>\n",
       "      <td>S12_3891</td>\n",
       "      <td>Gift Depot Inc.</td>\n",
       "      <td>2035552570</td>\n",
       "      <td>25593 South Bay Ln.</td>\n",
       "      <td>Bridgewater</td>\n",
       "      <td>USA</td>\n",
       "      <td>King</td>\n",
       "      <td>Julie</td>\n",
       "      <td>Medium</td>\n",
       "    </tr>\n",
       "    <tr>\n",
       "      <th>348</th>\n",
       "      <td>10419</td>\n",
       "      <td>34</td>\n",
       "      <td>90.17</td>\n",
       "      <td>14</td>\n",
       "      <td>3065.78</td>\n",
       "      <td>17/05/2020</td>\n",
       "      <td>363</td>\n",
       "      <td>Shipped</td>\n",
       "      <td>Classic Cars</td>\n",
       "      <td>79</td>\n",
       "      <td>S12_3990</td>\n",
       "      <td>Salzburg Collectables</td>\n",
       "      <td>6562-9555</td>\n",
       "      <td>Geislweg 14</td>\n",
       "      <td>Salzburg</td>\n",
       "      <td>Austria</td>\n",
       "      <td>Pipps</td>\n",
       "      <td>Georg</td>\n",
       "      <td>Medium</td>\n",
       "    </tr>\n",
       "  </tbody>\n",
       "</table>\n",
       "<p>86 rows × 19 columns</p>\n",
       "</div>"
      ],
      "text/plain": [
       "     ORDER_NUMBER  QUANTITY_ORDERED  PRICE_EACH  ORDERLINE_NUMBER    SALES  \\\n",
       "11          10263                34      108.14                 2  3676.76   \n",
       "12          10275                45       92.83                 1  4177.35   \n",
       "13          10285                36      113.88                 6  4099.68   \n",
       "14          10299                23      112.93                 9  2597.39   \n",
       "15          10309                41      107.18                 5  4394.38   \n",
       "..            ...               ...         ...               ...      ...   \n",
       "249         10417                21      164.18                 1  3447.78   \n",
       "274         10413                47      175.25                 3  8236.75   \n",
       "298         10419                10      109.22                11  1092.20   \n",
       "324         10413                22      153.99                 1  3387.78   \n",
       "348         10419                34       90.17                14  3065.78   \n",
       "\n",
       "     ORDER_DATE  DAYS_SINCE_LASTORDER    STATUS  PRODUCT_LINE  MSRP  \\\n",
       "11   28/06/2019                   350   Shipped   Motorcycles    95   \n",
       "12   23/07/2019                   326   Shipped   Motorcycles    95   \n",
       "13   27/08/2019                   292   Shipped   Motorcycles    95   \n",
       "14   30/09/2019                   259   Shipped   Motorcycles    95   \n",
       "15   15/10/2019                   245   Shipped   Motorcycles    95   \n",
       "..          ...                   ...       ...           ...   ...   \n",
       "249  13/05/2020                   268  Disputed   Motorcycles   150   \n",
       "274  05/05/2020                   301   Shipped  Classic Cars   151   \n",
       "298  17/05/2020                   313   Shipped  Classic Cars   117   \n",
       "324  05/05/2020                   351   Shipped  Classic Cars   173   \n",
       "348  17/05/2020                   363   Shipped  Classic Cars    79   \n",
       "\n",
       "    PRODUCT_CODE          CUSTOMER_NAME           PHONE  \\\n",
       "11      S10_1678        Gift Depot Inc.      2035552570   \n",
       "12      S10_1678      La Rochelle Gifts      40.67.8555   \n",
       "13      S10_1678   Marta's Replicas Co.      6175558555   \n",
       "14      S10_1678   Toys of Finland, Co.     90-224 8555   \n",
       "15      S10_1678     Baane Mini Imports      07-98 9555   \n",
       "..           ...                    ...             ...   \n",
       "249     S12_2823  Euro Shopping Channel  (91) 555 94 44   \n",
       "274     S12_3148        Gift Depot Inc.      2035552570   \n",
       "298     S12_3380  Salzburg Collectables       6562-9555   \n",
       "324     S12_3891        Gift Depot Inc.      2035552570   \n",
       "348     S12_3990  Salzburg Collectables       6562-9555   \n",
       "\n",
       "                     ADDRESSLINE1         CITY  COUNTRY CONTACTLASTNAME  \\\n",
       "11            25593 South Bay Ln.  Bridgewater      USA            King   \n",
       "12   67, rue des Cinquante Otages       Nantes   France         Labrune   \n",
       "13            39323 Spinnaker Dr.    Cambridge      USA       Hernandez   \n",
       "14                  Keskuskatu 45     Helsinki  Finland       Karttunen   \n",
       "15         Erling Skakkes gate 78      Stavern   Norway      Bergulfsen   \n",
       "..                            ...          ...      ...             ...   \n",
       "249            C/ Moralzarzal, 86       Madrid    Spain          Freyre   \n",
       "274           25593 South Bay Ln.  Bridgewater      USA            King   \n",
       "298                   Geislweg 14     Salzburg  Austria           Pipps   \n",
       "324           25593 South Bay Ln.  Bridgewater      USA            King   \n",
       "348                   Geislweg 14     Salzburg  Austria           Pipps   \n",
       "\n",
       "    CONTACT_FIRST_NAME DEAL_SIZE  \n",
       "11               Julie    Medium  \n",
       "12              Janine    Medium  \n",
       "13               Marta    Medium  \n",
       "14               Matti     Small  \n",
       "15               Jonas    Medium  \n",
       "..                 ...       ...  \n",
       "249              Diego    Medium  \n",
       "274              Julie     Large  \n",
       "298              Georg     Small  \n",
       "324              Julie    Medium  \n",
       "348              Georg    Medium  \n",
       "\n",
       "[86 rows x 19 columns]"
      ]
     },
     "execution_count": 55,
     "metadata": {},
     "output_type": "execute_result"
    }
   ],
   "source": [
    "a[(a['DAYS_SINCE_LASTORDER']>0) & (a['DAYS_SINCE_LASTORDER']<365)]"
   ]
  },
  {
   "cell_type": "markdown",
   "metadata": {},
   "source": [
    "these are the important and urgents orders of the data. because these are the first orders numbers in the data"
   ]
  },
  {
   "cell_type": "code",
   "execution_count": 56,
   "metadata": {},
   "outputs": [
    {
     "name": "stdout",
     "output_type": "stream",
     "text": [
      "0    10100\n",
      "1    10100\n",
      "2    10100\n",
      "3    10100\n",
      "4    10101\n",
      "5    10101\n",
      "6    10101\n",
      "7    10101\n",
      "8    10102\n",
      "9    10102\n",
      "Name: ORDER_NUMBER, dtype: int64\n"
     ]
    }
   ],
   "source": [
    "\n",
    "v=a.sort_values(['ORDER_NUMBER']).reset_index()\n",
    "c=pd.Series(v['ORDER_NUMBER'])\n",
    "print(c[0:10])"
   ]
  },
  {
   "cell_type": "markdown",
   "metadata": {},
   "source": [
    "# 14. Summarizing data\n"
   ]
  },
  {
   "cell_type": "markdown",
   "metadata": {},
   "source": [
    "We can easily aggregate a wide range of variables. Here we find the sales of the country and find the mean of the sales happened in that country"
   ]
  },
  {
   "cell_type": "code",
   "execution_count": 58,
   "metadata": {},
   "outputs": [
    {
     "name": "stdout",
     "output_type": "stream",
     "text": [
      "                   SALES\n",
      "COUNTRY                 \n",
      "Australia    3408.773514\n",
      "Austria      3673.864182\n",
      "Belgium      3285.230909\n",
      "Canada       3201.122286\n",
      "Denmark      3899.002381\n",
      "Finland      3582.412065\n",
      "France       3537.950701\n",
      "Germany      3556.001452\n",
      "Ireland      3609.776875\n",
      "Italy        3315.701858\n",
      "Japan        3618.611731\n",
      "Norway       3617.220000\n",
      "Philippines  3615.989615\n",
      "Singapore    3651.752025\n",
      "Spain        3554.640117\n",
      "Sweden       3684.459825\n",
      "Switzerland  3797.211613\n",
      "UK           3325.558750\n",
      "USA          3615.922080\n"
     ]
    }
   ],
   "source": [
    "pivot=pd.pivot_table(data=a,index='COUNTRY',values=['SALES'],aggfunc='mean')\n",
    "print(pivot)"
   ]
  },
  {
   "cell_type": "markdown",
   "metadata": {},
   "source": [
    "## 15. Plotting and Visualizing"
   ]
  },
  {
   "cell_type": "markdown",
   "metadata": {},
   "source": [
    "# Scatter plot"
   ]
  },
  {
   "cell_type": "markdown",
   "metadata": {},
   "source": [
    "The scatter plots are plotted between product line and quantity ordered and we can see the plot below. With the plot given below, we can easily draw a trend line. These features provide a good scattering of points."
   ]
  },
  {
   "cell_type": "code",
   "execution_count": 59,
   "metadata": {},
   "outputs": [
    {
     "data": {
      "text/plain": [
       "<Axes: xlabel='QUANTITY_ORDERED', ylabel='PRODUCT_LINE'>"
      ]
     },
     "execution_count": 59,
     "metadata": {},
     "output_type": "execute_result"
    },
    {
     "data": {
      "image/png": "[encoded data removed]",
      "text/plain": [
       "<Figure size 640x480 with 1 Axes>"
      ]
     },
     "metadata": {},
     "output_type": "display_data"
    }
   ],
   "source": [
    "sns.scatterplot(data=a,x=a['QUANTITY_ORDERED'],y=a['PRODUCT_LINE'])"
   ]
  },
  {
   "cell_type": "markdown",
   "metadata": {},
   "source": [
    "# Bar plot"
   ]
  },
  {
   "cell_type": "markdown",
   "metadata": {},
   "source": [
    "look this , it shows the relations with dealsize and sales"
   ]
  },
  {
   "cell_type": "code",
   "execution_count": 62,
   "metadata": {},
   "outputs": [
    {
     "data": {
      "text/plain": [
       "<Axes: xlabel='DEAL_SIZE', ylabel='SALES'>"
      ]
     },
     "execution_count": 62,
     "metadata": {},
     "output_type": "execute_result"
    },
    {
     "data": {
      "image/png": "[encoded data removed]",
      "text/plain": [
       "<Figure size 640x480 with 1 Axes>"
      ]
     },
     "metadata": {},
     "output_type": "display_data"
    }
   ],
   "source": [
    "sns.barplot(data=a,x=a['DEAL_SIZE'],y=a['SALES'])"
   ]
  },
  {
   "cell_type": "markdown",
   "metadata": {},
   "source": [
    "# Line plot"
   ]
  },
  {
   "cell_type": "markdown",
   "metadata": {},
   "source": [
    "it represents the status and range through the lineplot,and clearly we can visualize the status of the data"
   ]
  },
  {
   "cell_type": "code",
   "execution_count": null,
   "metadata": {},
   "outputs": [
    {
     "data": {
      "image/png": "[encoded data removed]",
      "text/plain": [
       "<Figure size 640x480 with 1 Axes>"
      ]
     },
     "metadata": {},
     "output_type": "display_data"
    }
   ],
   "source": [
    "z=a.groupby(['STATUS']).size().reset_index(name='range')\n",
    "import seaborn as sns\n",
    "sns.lineplot(data=z,x='STATUS',y='range')\n",
    "sns.set_style(\"ticks\")"
   ]
  },
  {
   "cell_type": "markdown",
   "metadata": {},
   "source": [
    "# Box plot"
   ]
  },
  {
   "cell_type": "markdown",
   "metadata": {},
   "source": [
    "Let’s look at the relationship between “deal size” and “price each”."
   ]
  },
  {
   "cell_type": "code",
   "execution_count": 66,
   "metadata": {},
   "outputs": [
    {
     "data": {
      "text/plain": [
       "<Axes: xlabel='PRICE_EACH', ylabel='DEAL_SIZE'>"
      ]
     },
     "execution_count": 66,
     "metadata": {},
     "output_type": "execute_result"
    },
    {
     "data": {
      "image/png": "[encoded data removed]",
      "text/plain": [
       "<Figure size 640x480 with 1 Axes>"
      ]
     },
     "metadata": {},
     "output_type": "display_data"
    }
   ],
   "source": [
    "sns.boxplot(data=a,x=a['PRICE_EACH'],y=a['DEAL_SIZE'])"
   ]
  },
  {
   "cell_type": "markdown",
   "metadata": {},
   "source": [
    "We see that the distributions of price and the different deal size categories have significant overlap."
   ]
  },
  {
   "cell_type": "markdown",
   "metadata": {},
   "source": [
    "\n",
    "\n",
    "\n",
    "### **The above steps that were carried out are the steps involved in Exploratory data analysis. I was able to explore and visualize data as per the requirements.**"
   ]
  },
  {
   "cell_type": "markdown",
   "metadata": {},
   "source": [
    "## THANK YOU"
   ]
  }
 ],
 "metadata": {
  "kernelspec": {
   "display_name": "Python 3",
   "language": "python",
   "name": "python3"
  },
  "language_info": {
   "codemirror_mode": {
    "name": "ipython",
    "version": 3
   },
   "file_extension": ".py",
   "mimetype": "text/x-python",
   "name": "python",
   "nbconvert_exporter": "python",
   "pygments_lexer": "ipython3",
   "version": "3.10.11"
  }
 },
 "nbformat": 4,
 "nbformat_minor": 2
}
